{
 "cells": [
  {
   "cell_type": "code",
   "execution_count": 8,
   "metadata": {},
   "outputs": [],
   "source": [
    "#Importar bibliotecas\n",
    "import pandas as pd\n",
    "import numpy as np\n",
    "import psycopg2 as pg2\n",
    "import warnings\n",
    "warnings.filterwarnings(\"ignore\")"
   ]
  },
  {
   "cell_type": "code",
   "execution_count": 9,
   "metadata": {},
   "outputs": [],
   "source": [
    "#Conectando com o PostgreSQL\n",
    "conn = pg2.connect(database='DP6', user='postgres', password='200613')\n",
    "cur=conn.cursor()\n",
    "#Query no PostgreSQL\n",
    "cur.execute('''\n",
    "    SELECT q0.fullvisitorid, q0.receita,q0.qt_de_transações,\n",
    "    q0.media_por_transação,q1.qt_de_sessões_conversão,q2.qt_de_sessões\n",
    "    FROM (SELECT fullvisitorid, \n",
    "        SUM(revenue) AS Receita,\n",
    "        COUNT(fullvisitorid) AS qt_de_transações,\n",
    "        AVG(revenue) AS media_por_transação\n",
    "        FROM hits\n",
    "        GROUP BY (fullvisitorid)) \n",
    "        AS q0\n",
    "    INNER JOIN (SELECT sessions.fullvisitorid, \n",
    "        COUNT(DISTINCT sessions.visitnumber) AS qt_de_sessões_conversão\n",
    "        FROM sessions\n",
    "        INNER JOIN hits\n",
    "        ON hits.fullvisitorid = sessions.fullvisitorid\n",
    "        WHERE hits.visitid = sessions.visitid \n",
    "        GROUP BY sessions.fullvisitorid) \n",
    "        AS q1\n",
    "    ON q0.fullvisitorid = q1.fullvisitorid\n",
    "    LEFT OUTER JOIN (SELECT fullvisitorid,\n",
    "        COUNT(visitid) AS qt_de_sessões\n",
    "        FROM sessions\n",
    "        GROUP BY fullvisitorid) \n",
    "        AS q2\n",
    "    ON q0.fullvisitorid = q2.fullvisitorid\n",
    "    ORDER BY q0.receita DESC\n",
    "    ''')\n",
    "#Fechando conexão\n",
    "data_base=cur.fetchall()\n",
    "consulta=pd.DataFrame(data_base,columns=['fullvisitorid', 'Receita','Qt_de_transações',\n",
    "'Media_por_transação','Qt_de_sessões_conversão','Qt_de_sessões'])\n",
    "cur.close()\n",
    "conn.commit()"
   ]
  },
  {
   "cell_type": "code",
   "execution_count": 10,
   "metadata": {},
   "outputs": [],
   "source": [
    "#Exportar como excel\n",
    "writer = pd.ExcelWriter('ConsultaSQL.xlsx', engine='xlsxwriter')\n",
    "#Escrevendo guias\n",
    "consulta.to_excel(writer,sheet_name='Consulta',index=False)\n",
    "#Salvando\n",
    "writer.save()"
   ]
  }
 ],
 "metadata": {
  "kernelspec": {
   "display_name": "Python 3.10.7 64-bit",
   "language": "python",
   "name": "python3"
  },
  "language_info": {
   "codemirror_mode": {
    "name": "ipython",
    "version": 3
   },
   "file_extension": ".py",
   "mimetype": "text/x-python",
   "name": "python",
   "nbconvert_exporter": "python",
   "pygments_lexer": "ipython3",
   "version": "3.10.7"
  },
  "orig_nbformat": 4,
  "vscode": {
   "interpreter": {
    "hash": "6847c98a8f86b01c6a19c518cd2f366693b80566b266804d5ca763cbb223f52b"
   }
  }
 },
 "nbformat": 4,
 "nbformat_minor": 2
}
