{
 "cells": [
  {
   "cell_type": "code",
   "execution_count": 4,
   "metadata": {},
   "outputs": [],
   "source": [
    "#Importar bibliotecas\n",
    "import pandas as pd\n",
    "import numpy as np\n",
    "import psycopg2 as pg2"
   ]
  },
  {
   "cell_type": "code",
   "execution_count": 5,
   "metadata": {},
   "outputs": [
    {
     "name": "stderr",
     "output_type": "stream",
     "text": [
      "C:\\Users\\andre\\AppData\\Local\\Temp\\ipykernel_3736\\573163549.py:2: DtypeWarning: Columns (1,18,23,46,53,55,59,62) have mixed types. Specify dtype option on import or set low_memory=False.\n",
      "  hits=pd.read_csv('C:/Users/andre/OneDrive/Área de Trabalho/DP6/hits.csv')\n",
      "C:\\Users\\andre\\AppData\\Local\\Temp\\ipykernel_3736\\573163549.py:3: DtypeWarning: Columns (0,7) have mixed types. Specify dtype option on import or set low_memory=False.\n",
      "  products=pd.read_csv('C:/Users/andre/OneDrive/Área de Trabalho/DP6/products.csv')\n",
      "C:\\Users\\andre\\AppData\\Local\\Temp\\ipykernel_3736\\573163549.py:4: DtypeWarning: Columns (2) have mixed types. Specify dtype option on import or set low_memory=False.\n",
      "  sessions=pd.read_csv('C:/Users/andre/OneDrive/Área de Trabalho/DP6/sessions.csv')\n"
     ]
    }
   ],
   "source": [
    "#Lendo arquivos CSV\n",
    "hits=pd.read_csv('C:/Users/andre/OneDrive/Área de Trabalho/DP6/hits.csv')\n",
    "products=pd.read_csv('C:/Users/andre/OneDrive/Área de Trabalho/DP6/products.csv')\n",
    "sessions=pd.read_csv('C:/Users/andre/OneDrive/Área de Trabalho/DP6/sessions.csv')"
   ]
  },
  {
   "cell_type": "code",
   "execution_count": 6,
   "metadata": {},
   "outputs": [
    {
     "name": "stderr",
     "output_type": "stream",
     "text": [
      "C:\\Users\\andre\\AppData\\Local\\Temp\\ipykernel_3736\\3003512629.py:5: SettingWithCopyWarning: \n",
      "A value is trying to be set on a copy of a slice from a DataFrame\n",
      "\n",
      "See the caveats in the documentation: https://pandas.pydata.org/pandas-docs/stable/user_guide/indexing.html#returning-a-view-versus-a-copy\n",
      "  hits.rename(columns={'transaction_transactionRevenue':'Revenue'},inplace=True)\n"
     ]
    }
   ],
   "source": [
    "#Remodelar tabelas, trazer somente informações que serão usadas\n",
    "products=products[['fullVisitorId','visitId','hitNumber','productPrice','productQuantity','productRevenue','v2ProductCategory','v2ProductName']]\n",
    "sessions=sessions[['fullVisitorId','visitId','date','visitNumber','salesRegion','channelGrouping','geoNetwork_country','geoNetwork_continent']]\n",
    "hits=hits[['hitNumber','fullVisitorId','visitId','transaction_transactionRevenue']]\n",
    "hits.rename(columns={'transaction_transactionRevenue':'Revenue'},inplace=True)\n",
    "#Considerar somente vendas que se concretizaram\n",
    "products=products[(products['productQuantity']>0) & (products['productRevenue']>0)]\n",
    "hits=hits[hits['Revenue']>0]"
   ]
  }
 ],
 "metadata": {
  "kernelspec": {
   "display_name": "Python 3.10.7 64-bit",
   "language": "python",
   "name": "python3"
  },
  "language_info": {
   "codemirror_mode": {
    "name": "ipython",
    "version": 3
   },
   "file_extension": ".py",
   "mimetype": "text/x-python",
   "name": "python",
   "nbconvert_exporter": "python",
   "pygments_lexer": "ipython3",
   "version": "3.10.7"
  },
  "orig_nbformat": 4,
  "vscode": {
   "interpreter": {
    "hash": "6847c98a8f86b01c6a19c518cd2f366693b80566b266804d5ca763cbb223f52b"
   }
  }
 },
 "nbformat": 4,
 "nbformat_minor": 2
}
