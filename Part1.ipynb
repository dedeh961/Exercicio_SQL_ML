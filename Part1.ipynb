{
 "cells": [
  {
   "cell_type": "code",
   "execution_count": 5,
   "metadata": {},
   "outputs": [],
   "source": [
    "#Importar bibliotecas\n",
    "import pandas as pd\n",
    "import numpy as np\n",
    "import psycopg2 as pg2"
   ]
  },
  {
   "cell_type": "code",
   "execution_count": 6,
   "metadata": {},
   "outputs": [],
   "source": [
    "#select fullvisitorid, \n",
    "#SUM(revenue) AS Receita,\n",
    "#COUNT(fullvisitorid) AS qt_de_transações,\n",
    "#AVG(revenue) AS media_por_transação\n",
    "#FROM hits\n",
    "#GROUP BY (fullvisitorid)"
   ]
  },
  {
   "cell_type": "code",
   "execution_count": 7,
   "metadata": {},
   "outputs": [],
   "source": [
    "#Encontrando receita, quantidade de transações e receita média por transação\n",
    "#Conectando com o PostgreSQL\n",
    "conn = pg2.connect(database='DP6', user='postgres', password='200613')\n",
    "cur=conn.cursor()\n",
    "#Query no PostgreSQL\n",
    "cur.execute('''\n",
    "        SELECT fullvisitorid, \n",
    "        SUM(revenue) AS Receita,\n",
    "        COUNT(fullvisitorid) AS qt_de_transações,\n",
    "        AVG(revenue) AS media_por_transação\n",
    "        FROM hits\n",
    "        GROUP BY (fullvisitorid)\n",
    "        ''')\n",
    "        #Fechando conexão\n",
    "data_base=cur.fetchall()\n",
    "parte1=pd.DataFrame(data_base)\n",
    "cur.close()\n",
    "conn.commit()"
   ]
  },
  {
   "cell_type": "code",
   "execution_count": 8,
   "metadata": {},
   "outputs": [],
   "source": [
    "#Encontrando número de sessões com conversão\n",
    "#Conectando com o PostgreSQL\n",
    "conn = pg2.connect(database='DP6', user='postgres', password='200613')\n",
    "cur=conn.cursor()\n",
    "#Query no PostgreSQL\n",
    "cur.execute('''\n",
    "    SELECT hits.fullvisitorid, \n",
    "    COUNT(hits.fullvisitorid) AS qt_de_sessões_conversão\n",
    "    FROM hits\n",
    "    INNER JOIN sessions\n",
    "    ON hits.fullvisitorid = sessions.fullvisitorid\n",
    "    GROUP BY hits.fullvisitorid\n",
    "    ''')\n",
    "#Fechando conexão\n",
    "data_base=cur.fetchall()\n",
    "parte2=pd.DataFrame(data_base)\n",
    "cur.close()\n",
    "conn.commit()"
   ]
  },
  {
   "cell_type": "code",
   "execution_count": null,
   "metadata": {},
   "outputs": [],
   "source": [
    "'''SELECT *\n",
    "FROM (SELECT fullvisitorid, \n",
    "\tSUM(revenue) AS Receita,\n",
    "\tCOUNT(fullvisitorid) AS qt_de_transações,\n",
    "\tAVG(revenue) AS media_por_transação\n",
    "\tFROM hits\n",
    "\tGROUP BY (fullvisitorid)) \n",
    "\tAS q0\n",
    "INNER JOIN (SELECT hits.fullvisitorid, \n",
    "\tCOUNT(hits.fullvisitorid) AS qt_de_sessões_conversão\n",
    "\tFROM hits\n",
    "\tINNER JOIN sessions\n",
    "\tON hits.fullvisitorid = sessions.fullvisitorid\n",
    "\tGROUP BY hits.fullvisitorid) AS q1\n",
    "\tON q0.fullvisitorid = q1.fullvisitorid'''"
   ]
  }
 ],
 "metadata": {
  "kernelspec": {
   "display_name": "Python 3.10.7 64-bit",
   "language": "python",
   "name": "python3"
  },
  "language_info": {
   "codemirror_mode": {
    "name": "ipython",
    "version": 3
   },
   "file_extension": ".py",
   "mimetype": "text/x-python",
   "name": "python",
   "nbconvert_exporter": "python",
   "pygments_lexer": "ipython3",
   "version": "3.10.7"
  },
  "orig_nbformat": 4,
  "vscode": {
   "interpreter": {
    "hash": "6847c98a8f86b01c6a19c518cd2f366693b80566b266804d5ca763cbb223f52b"
   }
  }
 },
 "nbformat": 4,
 "nbformat_minor": 2
}
