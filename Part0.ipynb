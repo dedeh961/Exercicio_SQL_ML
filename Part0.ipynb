{
 "cells": [
  {
   "cell_type": "code",
   "execution_count": 19,
   "metadata": {},
   "outputs": [],
   "source": [
    "#Importar bibliotecas\n",
    "import pandas as pd\n",
    "import numpy as np\n",
    "import psycopg2 as pg2\n",
    "import warnings"
   ]
  },
  {
   "cell_type": "code",
   "execution_count": 20,
   "metadata": {},
   "outputs": [],
   "source": [
    "def extrair_dados():\n",
    "#Lendo arquivos CSV\n",
    "    hits=pd.read_csv('C:/Users/andre/OneDrive/Área de Trabalho/DP6/hits.csv')\n",
    "    products=pd.read_csv('C:/Users/andre/OneDrive/Área de Trabalho/DP6/products.csv')\n",
    "    sessions=pd.read_csv('C:/Users/andre/OneDrive/Área de Trabalho/DP6/sessions.csv')\n",
    "    #Remodelar tabelas, trazer somente informações que serão usadas\n",
    "    products=products[['fullVisitorId','visitId','hitNumber','productPrice','productQuantity','productRevenue','v2ProductCategory','v2ProductName']]\n",
    "    sessions=sessions[['fullVisitorId','visitId','date','visitNumber','channelGrouping','geoNetwork_country','geoNetwork_continent']]\n",
    "    hits=hits[['hitNumber','fullVisitorId','visitId','transaction_transactionRevenue']]\n",
    "    hits.rename(columns={'transaction_transactionRevenue':'Revenue'},inplace=True)\n",
    "    #Considerar somente vendas que se concretizaram\n",
    "    products=products[(products['productQuantity']>0) & (products['productRevenue']>0)]\n",
    "    hits=hits[hits['Revenue']>0]\n",
    "    #Alterando tipo dos dados\n",
    "    hits['Revenue']=hits['Revenue'].astype(np.float64)\n",
    "    hits[['hitNumber','fullVisitorId','visitId']]=hits[['hitNumber','fullVisitorId','visitId']].astype(str)\n",
    "    products[['fullVisitorId','visitId','hitNumber']]=products[['fullVisitorId','visitId','hitNumber']].astype(str)\n",
    "    products[['productPrice','productQuantity','productRevenue']]=products[['productPrice','productQuantity','productRevenue']].astype(np.float64)\n",
    "    sessions[['fullVisitorId','visitId','visitNumber']]=sessions[['fullVisitorId','visitId','visitNumber']].astype(str)\n",
    "    sessions[['date']]=sessions[['date']].astype(np.int64)\n",
    "    return hits, products, sessions"
   ]
  },
  {
   "cell_type": "code",
   "execution_count": 21,
   "metadata": {},
   "outputs": [],
   "source": [
    "def postgre_products():\n",
    "        #Conectando com o PostgreSQL\n",
    "        conn = pg2.connect(database='DP6', user='postgres', password='200613')\n",
    "        cur=conn.cursor()\n",
    "        #Query no PostgreSQL\n",
    "        cur.execute('''\n",
    "                CREATE TABLE IF NOT EXISTS products (\n",
    "                fullVisitorId VARCHAR,\n",
    "                visitId VARCHAR,\n",
    "                hitNumber VARCHAR,\n",
    "                productPrice FLOAT,\n",
    "                productQuantity FLOAT,\n",
    "                productRevenue FLOAT,\n",
    "                v2ProductCategory VARCHAR,\n",
    "                v2ProductName VARCHAR)\n",
    "                ''')\n",
    "        #Fechando conexão\n",
    "        cur.close()\n",
    "        conn.commit()"
   ]
  },
  {
   "cell_type": "code",
   "execution_count": 22,
   "metadata": {},
   "outputs": [],
   "source": [
    "def postgre_hits():\n",
    "        #Conectando com o PostgreSQL\n",
    "        conn = pg2.connect(database='DP6', user='postgres', password='200613')\n",
    "        cur=conn.cursor()\n",
    "        #Query no PostgreSQL\n",
    "        cur.execute('''\n",
    "                CREATE TABLE IF NOT EXISTS hits (\n",
    "                hitNumber VARCHAR,\n",
    "                fullVisitorId VARCHAR,\n",
    "                visitId VARCHAR,\n",
    "                Revenue FLOAT)\n",
    "                ''')\n",
    "        #Fechando conexão\n",
    "        cur.close()\n",
    "        conn.commit()"
   ]
  },
  {
   "cell_type": "code",
   "execution_count": 23,
   "metadata": {},
   "outputs": [],
   "source": [
    "def postgre_sessions():\n",
    "        #Conectando com o PostgreSQL\n",
    "        conn = pg2.connect(database='DP6', user='postgres', password='200613')\n",
    "        cur=conn.cursor()\n",
    "        #Query no PostgreSQL\n",
    "        cur.execute('''\n",
    "                CREATE TABLE IF NOT EXISTS sessions (\n",
    "                fullVisitorId VARCHAR,\n",
    "                visitId VARCHAR,\n",
    "                date FLOAT,\n",
    "                visitNumber VARCHAR,\n",
    "                channelGrouping VARCHAR,\n",
    "                geoNetwork_country VARCHAR,\n",
    "                geoNetwork_continent VARCHAR) \n",
    "                ''')\n",
    "        #Fechando conexão\n",
    "        cur.close()\n",
    "        conn.commit()"
   ]
  },
  {
   "cell_type": "code",
   "execution_count": 24,
   "metadata": {},
   "outputs": [],
   "source": [
    "def inserir_hits(hits):\n",
    "    #Conectando com o PostgreSQL\n",
    "    conn = pg2.connect(database=\"DP6\", user=\"postgres\", password=\"200613\")\n",
    "    cur=conn.cursor()\n",
    "    #Query no PostgreSQL\n",
    "    insert_query = f\"\"\"insert into hits(\n",
    "        hitNumber,\n",
    "        fullVisitorId,\n",
    "        visitId,\n",
    "        Revenue) values (%s,%s,%s,%s)\"\"\"\n",
    "    cur.executemany(insert_query, hits.values)\n",
    "    #Fechando conexão\n",
    "    cur.close()\n",
    "    conn.commit() "
   ]
  },
  {
   "cell_type": "code",
   "execution_count": 25,
   "metadata": {},
   "outputs": [],
   "source": [
    "def inserir_products(products):\n",
    "    #Conectando com o PostgreSQL\n",
    "    conn = pg2.connect(database=\"DP6\", user=\"postgres\", password=\"200613\")\n",
    "    cur=conn.cursor()\n",
    "    #Query no PostgreSQL\n",
    "    insert_query = f\"\"\"insert into products(\n",
    "        fullVisitorId,\n",
    "        visitId,\n",
    "        hitNumber,\n",
    "        productPrice,\n",
    "        productQuantity,\n",
    "        productRevenue,\n",
    "        v2ProductCategory,\n",
    "        v2ProductName) values (%s,%s,%s,%s,%s,%s,%s,%s)\"\"\"\n",
    "    cur.executemany(insert_query, products.values)\n",
    "    #Fechando conexão\n",
    "    cur.close()\n",
    "    conn.commit() "
   ]
  },
  {
   "cell_type": "code",
   "execution_count": 26,
   "metadata": {},
   "outputs": [],
   "source": [
    "def inserir_sessions(sessions):\n",
    "    #Conectando com o PostgreSQL\n",
    "    conn = pg2.connect(database=\"DP6\", user=\"postgres\", password=\"200613\")\n",
    "    cur=conn.cursor()\n",
    "    #Query no PostgreSQL\n",
    "    insert_query = f\"\"\"insert into sessions(\n",
    "        fullVisitorId,\n",
    "        visitId,\n",
    "        date,\n",
    "        visitNumber,\n",
    "        channelGrouping,\n",
    "        geoNetwork_country,\n",
    "        geoNetwork_continent) values (%s,%s,%s,%s,%s,%s,%s)\"\"\"\n",
    "    cur.executemany(insert_query, sessions.values)\n",
    "    #Fechando conexão\n",
    "    cur.close()\n",
    "    conn.commit() "
   ]
  },
  {
   "cell_type": "code",
   "execution_count": 27,
   "metadata": {},
   "outputs": [],
   "source": [
    "#Ignorando avisos\n",
    "warnings.filterwarnings(\"ignore\")\n",
    "#Retirando dados dos arquivos CSV\n",
    "hits, products, sessions = extrair_dados()\n",
    "#Criar base em Pg4Admin\n",
    "postgre_hits()\n",
    "postgre_products()\n",
    "postgre_sessions()\n",
    "#Inserir dados em base PostgreSQL\n",
    "inserir_hits(hits)\n",
    "inserir_products(products)\n",
    "inserir_sessions(sessions)"
   ]
  }
 ],
 "metadata": {
  "kernelspec": {
   "display_name": "Python 3.10.7 64-bit",
   "language": "python",
   "name": "python3"
  },
  "language_info": {
   "codemirror_mode": {
    "name": "ipython",
    "version": 3
   },
   "file_extension": ".py",
   "mimetype": "text/x-python",
   "name": "python",
   "nbconvert_exporter": "python",
   "pygments_lexer": "ipython3",
   "version": "3.10.7"
  },
  "orig_nbformat": 4,
  "vscode": {
   "interpreter": {
    "hash": "6847c98a8f86b01c6a19c518cd2f366693b80566b266804d5ca763cbb223f52b"
   }
  }
 },
 "nbformat": 4,
 "nbformat_minor": 2
}
